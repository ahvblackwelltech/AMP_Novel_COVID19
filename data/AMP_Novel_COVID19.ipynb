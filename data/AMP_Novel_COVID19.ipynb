{
  "nbformat": 4,
  "nbformat_minor": 0,
  "metadata": {
    "colab": {
      "name": "AMP_Novel_COVID19.ipynb",
      "provenance": [],
      "authorship_tag": "ABX9TyPTzOOuexZV9xtnpn5e+vFB",
      "include_colab_link": true
    },
    "kernelspec": {
      "name": "python3",
      "display_name": "Python 3"
    }
  },
  "cells": [
    {
      "cell_type": "markdown",
      "metadata": {
        "id": "view-in-github",
        "colab_type": "text"
      },
      "source": [
        "<a href=\"https://colab.research.google.com/github/ahvblackwelltech/AMP_Novel_COVID19/blob/master/data/AMP_Novel_COVID19.ipynb\" target=\"_parent\"><img src=\"https://colab.research.google.com/assets/colab-badge.svg\" alt=\"Open In Colab\"/></a>"
      ]
    },
    {
      "cell_type": "markdown",
      "metadata": {
        "id": "Nxqp2tF4QPMZ",
        "colab_type": "text"
      },
      "source": [
        "# **Applied Model Project : Novel COVID19**"
      ]
    },
    {
      "cell_type": "markdown",
      "metadata": {
        "id": "qmuOriRlQas2",
        "colab_type": "text"
      },
      "source": [
        "*Predict the Spreading of Coronavirus*\n"
      ]
    },
    {
      "cell_type": "code",
      "metadata": {
        "id": "aR3wWgw-QIDv",
        "colab_type": "code",
        "colab": {}
      },
      "source": [
        "# URL (https://www.kaggle.com/sudalairajkumar/novel-corona-virus-2019-dataset/tasks?taskId=508)"
      ],
      "execution_count": 0,
      "outputs": []
    },
    {
      "cell_type": "markdown",
      "metadata": {
        "id": "PVwtUDQIQ8rv",
        "colab_type": "text"
      },
      "source": [
        "\n",
        "\n",
        "---\n",
        "\n"
      ]
    },
    {
      "cell_type": "markdown",
      "metadata": {
        "id": "vVQOYxH1Q_RT",
        "colab_type": "text"
      },
      "source": [
        "# **Import Libraries & Clean Data**"
      ]
    },
    {
      "cell_type": "code",
      "metadata": {
        "id": "Patc7j-gRFHn",
        "colab_type": "code",
        "colab": {}
      },
      "source": [
        "%%capture\n",
        "import sys\n",
        "\n",
        "# If you're on Colab:\n",
        "if 'google.colab' in sys.modules:\n",
        "    DATA_PATH = 'https://raw.githubusercontent.com/LambdaSchool/DS-Unit-2-Kaggle-Challenge/master/data/'\n",
        "    !pip install category_encoders==2.*\n",
        "\n",
        "# If you're working locally:\n",
        "else:\n",
        "    DATA_PATH = '../data/'"
      ],
      "execution_count": 0,
      "outputs": []
    },
    {
      "cell_type": "code",
      "metadata": {
        "id": "RJn3Li9tRpaY",
        "colab_type": "code",
        "colab": {}
      },
      "source": [
        "%matplotlib inline\n",
        "import pandas as pd\n",
        "import numpy as np\n",
        "import seaborn as sns\n",
        "import matplotlib.pyplot as plt"
      ],
      "execution_count": 0,
      "outputs": []
    }
  ]
}